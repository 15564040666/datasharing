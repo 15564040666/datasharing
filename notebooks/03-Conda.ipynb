{
 "cells": [
  {
   "cell_type": "markdown",
   "metadata": {},
   "source": [
    "# Conda\n",
    "\n",
    "by Landung Setiawan (landungs@uw.edu)"
   ]
  },
  {
   "cell_type": "markdown",
   "metadata": {},
   "source": [
    "We will start this tutorial by looking at a picture of the perfect python environment.\n",
    "![Perfect Python Environment](https://geohackweek.github.io/datasharing/assets/img/conda/conda-env.jpeg)\n",
    "\n",
    "**Definition of python virtual environment: a self-contained directory tree that contains a Python installation for a particular version of Python, plus a number of additional packages.**"
   ]
  },
  {
   "cell_type": "markdown",
   "metadata": {},
   "source": [
    "---\n",
    "## 0. Python Environment Discussion\n",
    "\n",
    "What are the benefits of having a well defined python environment?\n",
    "\n",
    "*Brainstorming: [https://etherpad.wikimedia.org/p/geohack2019-conda](https://etherpad.wikimedia.org/p/geohack2019-conda)*\n",
    "\n",
    "<details><summary>Solution</summary>\n",
    "<p>\n",
    "\n",
    "1. Avoid future breakage if any dependencies changes\n",
    "2. Allows better collaboration among team\n",
    "3. Reliability\n",
    "\n",
    "</p>\n",
    "</details>"
   ]
  },
  {
   "cell_type": "markdown",
   "metadata": {},
   "source": [
    "---\n",
    "## 1. Ways to create environments and manage packages in Python\n",
    "\n",
    "1. The most classic is with `pip` as a python package manager, \n",
    "along with `virtualenv` as the python environment manager.\n",
    "2. Next modern classic `pipenv` as a python package and environment manager.\n",
    "3. What we'll learn, `conda`."
   ]
  },
  {
   "cell_type": "markdown",
   "metadata": {},
   "source": [
    "---\n",
    "## 2. Review from Preliminary\n",
    "\n",
    "### What is conda?\n",
    "- An open source **package** and **environment** management system, \n",
    "used by the scientific software community\n",
    "- From their website: *Package, dependency and environment management for any language—Python, R, Ruby, Lua, Scala, Java, JavaScript, C/ C++, FORTRAN*\n",
    "\n",
    "### Flavors of conda\n",
    "- Miniconda:\n",
    "   \n",
    "   **Lightweight** distribution of conda; only contains the necessary python packages.\n",
    "\n",
    "- Anaconda:\n",
    " \n",
    "   A **data science platform** distribution of conda; comes with a lot of scientific python packages."
   ]
  },
  {
   "cell_type": "markdown",
   "metadata": {},
   "source": [
    "---\n",
    "## 3. Exercise: Let's try creating a python environment\n",
    "\n",
    "### Scenerio 1:\n",
    "Bob is a post-doc. He has been programming in Python for a few years now, \n",
    "and he is very comfortable managing his own python environment, \n",
    "previously using `pip` and `virtualenv`, but now he's with the \"cool\" kids using `pipenv`. \n",
    "Recently, his studies are shifting more towards a geospatial focus, and he will need python libraries such as gdal, fiona, and netcdf. Let's see what happens."
   ]
  },
  {
   "cell_type": "code",
   "execution_count": 2,
   "metadata": {},
   "outputs": [
    {
     "data": {
      "text/html": [
       "<script \n",
       "class=\"scenario-vid\" \n",
       "id=\"asciicast-EhWPMkBn6I8jVHEvJrkwfVMAg\" \n",
       "src=\"https://asciinema.org/a/EhWPMkBn6I8jVHEvJrkwfVMAg.js\" \n",
       "data-speed=5 async></script>"
      ],
      "text/plain": [
       "<IPython.core.display.HTML object>"
      ]
     },
     "metadata": {},
     "output_type": "display_data"
    }
   ],
   "source": [
    "%%html\n",
    "<script \n",
    "class=\"scenario-vid\" \n",
    "id=\"asciicast-EhWPMkBn6I8jVHEvJrkwfVMAg\" \n",
    "src=\"https://asciinema.org/a/EhWPMkBn6I8jVHEvJrkwfVMAg.js\" \n",
    "data-speed=5 async></script>"
   ]
  },
  {
   "cell_type": "markdown",
   "metadata": {},
   "source": [
    "**Bob got an error ...**"
   ]
  },
  {
   "cell_type": "markdown",
   "metadata": {},
   "source": [
    "Bob looked at https://pypi.org/project/GDAL/, but it's still really confusing to set this up... HELP!"
   ]
  },
  {
   "cell_type": "markdown",
   "metadata": {},
   "source": [
    "## Scenerio 2:\n",
    "In the other side of the world, we meet Sandy. She is an advanced undergrad that has attended one of the hackweek at UW eScience. She just started to really program in Python. Her senior thesis project requires her to analyze a geospatial entity. Similar to bob she knows that she will need to use gdal, fiona, and netcdf. Having learned about `conda` in the hackweek she started following the `conda` workflow in creating a new project. Let's see what happens."
   ]
  },
  {
   "cell_type": "code",
   "execution_count": 3,
   "metadata": {},
   "outputs": [
    {
     "data": {
      "text/html": [
       "\n",
       "<script id=\"asciicast-2Kz7LgkK7BJ1gg7gi1wtJZorn\" \n",
       "src=\"https://asciinema.org/a/2Kz7LgkK7BJ1gg7gi1wtJZorn.js\" \n",
       "data-speed=5 async></script>"
      ],
      "text/plain": [
       "<IPython.core.display.HTML object>"
      ]
     },
     "metadata": {},
     "output_type": "display_data"
    }
   ],
   "source": [
    "%%html\n",
    "\n",
    "<script id=\"asciicast-2Kz7LgkK7BJ1gg7gi1wtJZorn\" \n",
    "src=\"https://asciinema.org/a/2Kz7LgkK7BJ1gg7gi1wtJZorn.js\" \n",
    "data-speed=5 async></script>"
   ]
  },
  {
   "cell_type": "markdown",
   "metadata": {},
   "source": [
    "**Sandy succeeded!**"
   ]
  },
  {
   "cell_type": "markdown",
   "metadata": {},
   "source": [
    "## So, what's going on? why didn't pipenv work?\n",
    "\n",
    "- `pipenv` is basically just a nice wrapper that uses `pip` and `virtualenv` under the hood\n",
    "- `pip` is simply just a python package manager\n",
    "- `pip` does not handle library dependencies outside of the python packages as well as the python packages themselves\n",
    "- `pip` wheels can solve some of the lower level dependencies problems that we run into in bob's case, but GDAL Developers did not include these dependencies within the wheels, users have to set it up themselves!\n",
    "\n",
    "*NOTE: Conda can manage pip packages, but pip cannot manage conda packages*"
   ]
  },
  {
   "cell_type": "markdown",
   "metadata": {},
   "source": [
    "---\n",
    "## Concepts of conda"
   ]
  },
  {
   "cell_type": "markdown",
   "metadata": {},
   "source": [
    "```\n",
    "# Check conda version to make sure it's installed.\n",
    "conda info\n",
    "```"
   ]
  },
  {
   "cell_type": "markdown",
   "metadata": {},
   "source": [
    "<details><summary>Conda Help and Manual</summary>\n",
    "<p>\n",
    "\n",
    "To see the full documentation for any command, type the command followed by --help. For example, to learn about the conda update command:\n",
    "```\n",
    "conda update --help\n",
    "```\n",
    "\n",
    "</p>\n",
    "</details>"
   ]
  },
  {
   "cell_type": "markdown",
   "metadata": {},
   "source": [
    "### 1. Environments\n",
    "![conda environments](https://geohackweek.github.io/datasharing/assets/img/conda/conda-env2.jpeg)"
   ]
  },
  {
   "cell_type": "markdown",
   "metadata": {},
   "source": [
    "What is a conda environment?\n",
    "\n",
    "- Similar to python virtual environments (venv)\n",
    "- A set of isolated packages in a directory\n",
    "- Able to be shared via environment files"
   ]
  },
  {
   "cell_type": "markdown",
   "metadata": {},
   "source": [
    "```\n",
    "# List out available environments\n",
    "conda env list # The starred * environment is the current activate environment\n",
    "\n",
    "# Create conda environment from command line (Not Best Practice)\n",
    "conda create --name myenv --channel conda-forge python=3.6\n",
    "\n",
    "# Activate conda environment\n",
    "conda activate myenv\n",
    "\n",
    "# Deactivate conda environment\n",
    "conda deactivate\n",
    "\n",
    "# Create conda environment from environment file (Recommended Best Practice)\n",
    "conda env create --file environment.yml\n",
    "\n",
    "# Removing conda environments\n",
    "conda env remove --yes --name myenv\n",
    "```"
   ]
  },
  {
   "cell_type": "markdown",
   "metadata": {},
   "source": [
    "Sample of `environment.yml`\n",
    "```\n",
    "name: tutorial-env\n",
    "channels:\n",
    "- conda-forge\n",
    "dependencies:\n",
    "- python=3.7\n",
    "- numpy\n",
    "- matplotlib\n",
    "- pandas\n",
    "- bokeh\n",
    "- rise\n",
    "- nb_conda_kernels\n",
    "- ipykernel\n",
    "```"
   ]
  },
  {
   "cell_type": "markdown",
   "metadata": {},
   "source": [
    "<details><summary><strong>Best practice to share environments</strong></summary>\n",
    "<p>\n",
    "\n",
    "\n",
    "1. When starting a new environment, always generate it from an environment file rather than the command line.\n",
    "2. As you add packages to the environment, be sure to update the environment file.\n",
    "3. Unless you have to (i.e. Production Environments), try to avoid specifying the version of each package. This will ensure you have the most up to date version that will work across platform.\n",
    "\n",
    "If you follow these guidelines, you should be able to give your environment file to anyone, and they will be able to install your packages with no problem.\n",
    "\n",
    "</p>\n",
    "</details>"
   ]
  },
  {
   "cell_type": "markdown",
   "metadata": {},
   "source": [
    "### 2. Channels\n",
    "![conda channels](https://geohackweek.github.io/datasharing/assets/img/conda/conda-channels.jpeg)"
   ]
  },
  {
   "cell_type": "markdown",
   "metadata": {},
   "source": [
    "What is a conda channel?\n",
    "\n",
    "- Similar to linux repository (or app store)\n",
    "- The service is hosted for free at Anaconda Cloud"
   ]
  },
  {
   "cell_type": "markdown",
   "metadata": {},
   "source": [
    "```\n",
    "# List out your channels and priorities\n",
    "\n",
    "conda config --get channels\n",
    "\n",
    "# If you have a few trusted channels that you prefer to use, you can pre-configure these so that everytime you are creating an environment, you won’t need to explicitly declare the channel.\n",
    "\n",
    "conda config --add channels conda-forge\n",
    "\n",
    "# strict priority and conda-forge at the top will ensure\n",
    "# that all of your packages will be from conda-forge unless they only exist on defaults\n",
    "\n",
    "conda config --set channel_priority strict\n",
    "conda config --set show_channel_urls True\n",
    "```"
   ]
  },
  {
   "cell_type": "markdown",
   "metadata": {},
   "source": [
    "**NOTE: The highest priority channel is where your packages will be installed from no matter if another channel has a higher version!**"
   ]
  },
  {
   "cell_type": "markdown",
   "metadata": {},
   "source": [
    "---\n",
    "#### Conda Forge (https://anaconda.org/conda-forge)\n",
    "\n",
    "Conda forge is a community led collection of recipes, build infrastructure and distributions for the conda package manager.\n",
    "\n",
    "Watch Filipe’s talk from pycon, one of the conda-forge lead developer, https://www.youtube.com/watch?v=qJFkIuzD6tI for more info about how to put your packages into the conda-forge channel!\n",
    "\n",
    "---"
   ]
  },
  {
   "cell_type": "markdown",
   "metadata": {},
   "source": [
    "### 3. Packages\n",
    "\n",
    "What is a conda package?\n",
    "\n",
    "- A compiled software package, but when installed also include all of its dependencies even the lower level ones\n",
    "- Cross platform\n",
    "- Made from **recipes**\n"
   ]
  },
  {
   "cell_type": "markdown",
   "metadata": {},
   "source": [
    "You can search for conda packages at https://anaconda.org/ or the terminal shown below."
   ]
  },
  {
   "cell_type": "markdown",
   "metadata": {},
   "source": [
    "```\n",
    "# Look at the packages you have installed\n",
    "conda list\n",
    "\n",
    "# Let's search for gdal conda\n",
    "conda search gdal\n",
    "\n",
    "# Install a single conda package\n",
    "conda install -c conda-forge gdal\n",
    "\n",
    "# Or install multiple packages\n",
    "conda install -c conda-forge gdal fiona\n",
    "\n",
    "# Removing a conda package\n",
    "conda remove -n myenv gdal\n",
    "```"
   ]
  },
  {
   "cell_type": "markdown",
   "metadata": {},
   "source": [
    "### 4. Recipes\n",
    "Instruction on how to compile the conda package and its metadata\n",
    "\n",
    "```\n",
    "package:\n",
    "  name: pandas\n",
    "  version: \n",
    "source:\n",
    "  url: https://github.com/pydata/pandas/archive/v.tar.gz\n",
    "  sha256: d9f67bb17f334ad395e01b2339c3756f3e0d0240cb94c094ef711bbfc5c56c80\n",
    "build:\n",
    "  number: 0\n",
    "  script: python setup.py install --single-version-externally-managed --record=record.txt\n",
    "about:\n",
    "  home: http://pandas.pydata.org\n",
    "  license: BSD 3-clause\n",
    "  summary: 'High-performance, easy-to-use data structures and data analysis tools.'\n",
    "extra:\n",
    "  recipe-maintainers:\n",
    "    - jreback\n",
    "    - jorisvandenbossche\n",
    "    - TomAugspurger\n",
    "```"
   ]
  },
  {
   "cell_type": "markdown",
   "metadata": {},
   "source": [
    "**For official walkthrough go to https://bit.ly/tryconda**"
   ]
  },
  {
   "cell_type": "markdown",
   "metadata": {},
   "source": [
    "**For conda cheat sheet, go to https://tinyurl.com/y49fjnoj**"
   ]
  }
 ],
 "metadata": {
  "kernelspec": {
   "display_name": "Python 3",
   "language": "python",
   "name": "python3"
  },
  "language_info": {
   "codemirror_mode": {
    "name": "ipython",
    "version": 3
   },
   "file_extension": ".py",
   "mimetype": "text/x-python",
   "name": "python",
   "nbconvert_exporter": "python",
   "pygments_lexer": "ipython3",
   "version": "3.7.3"
  }
 },
 "nbformat": 4,
 "nbformat_minor": 4
}
