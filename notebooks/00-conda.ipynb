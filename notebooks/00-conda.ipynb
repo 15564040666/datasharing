{
 "cells": [
  {
   "cell_type": "markdown",
   "metadata": {},
   "source": [
    "# Conda"
   ]
  },
  {
   "cell_type": "markdown",
   "metadata": {},
   "source": [
    "We will start this tutorial by looking at a picture of the perfect python environment.\n",
    "![Perfect Python Environment](https://geohackweek.github.io/datasharing/assets/img/conda/conda-env.jpeg)\n",
    "\n",
    "**Definition of python virtual environment: a self-contained directory tree that contains a Python installation for a particular version of Python, plus a number of additional packages.**"
   ]
  },
  {
   "cell_type": "markdown",
   "metadata": {},
   "source": [
    "---\n",
    "## 0. Python Environment Discussion\n",
    "\n",
    "What are the benefits of having a well defined python environment?\n",
    "\n",
    "*Brainstorming: [https://etherpad.wikimedia.org/p/geohack-conda](https://etherpad.wikimedia.org/p/geohack-conda)*\n",
    "\n",
    "<details><summary>Solution</summary>\n",
    "<p>\n",
    "\n",
    "1. Avoid future breakage if any dependencies changes\n",
    "2. Allows better collaboration among team\n",
    "3. Reliability\n",
    "\n",
    "</p>\n",
    "</details>"
   ]
  },
  {
   "cell_type": "markdown",
   "metadata": {},
   "source": [
    "---\n",
    "## 1. Ways to create environments and manage packages in Python\n",
    "\n",
    "1. The most classic is with `pip` as a python package manager, \n",
    "along with `virtualenv` as the python environment manager.\n",
    "2. Next modern classic `pipenv` as a python package and environment manager.\n",
    "3. What we'll learn, `conda`."
   ]
  },
  {
   "cell_type": "markdown",
   "metadata": {},
   "source": [
    "---\n",
    "## 2. Review from Preliminary\n",
    "\n",
    "### What is conda?\n",
    "- An open source **package** and **environment** management system, \n",
    "used by the scientific software community\n",
    "- From their website: *Package, dependency and environment management for any language—Python, R, Ruby, Lua, Scala, Java, JavaScript, C/ C++, FORTRAN*\n",
    "\n",
    "### Flavors of conda\n",
    "- Miniconda:\n",
    "   \n",
    "   **Lightweight** distribution of conda; only contains the necessary python packages.\n",
    "\n",
    "- Anaconda:\n",
    " \n",
    "   A **data science platform** distribution of conda; comes with a lot of scientific python packages."
   ]
  },
  {
   "cell_type": "markdown",
   "metadata": {},
   "source": [
    "---\n",
    "## 3. Exercise: Let's try creating a python environment\n",
    "\n",
    "### Scenerio 1:\n",
    "Bob is a post-doc. He has been programming in Python for a few years now, \n",
    "and he is very comfortable managing his own python environment, \n",
    "previously using `pip` and `virtualenv`, but now he's with the \"cool\" kids using `pipenv`. \n",
    "Recently, his studies are shifting more towards a geospatial focus, and he will need python libraries such as gdal, fiona, and netcdf. Let's see what happens."
   ]
  },
  {
   "cell_type": "code",
   "execution_count": 10,
   "metadata": {},
   "outputs": [
    {
     "data": {
      "text/html": [
       "<script class=\"scenario-vid\" id=\"asciicast-EhWPMkBn6I8jVHEvJrkwfVMAg\" src=\"https://asciinema.org/a/EhWPMkBn6I8jVHEvJrkwfVMAg.js\" async></script>\n"
      ],
      "text/plain": [
       "<IPython.core.display.HTML object>"
      ]
     },
     "metadata": {},
     "output_type": "display_data"
    }
   ],
   "source": [
    "%%html\n",
    "<script class=\"scenario-vid\" id=\"asciicast-EhWPMkBn6I8jVHEvJrkwfVMAg\" src=\"https://asciinema.org/a/EhWPMkBn6I8jVHEvJrkwfVMAg.js\" async></script>"
   ]
  },
  {
   "cell_type": "markdown",
   "metadata": {},
   "source": [
    "**Bob got an error ...**"
   ]
  },
  {
   "cell_type": "markdown",
   "metadata": {},
   "source": [
    "Bob looked at https://pypi.org/project/GDAL/, but it's still really confusing to set this up... HELP!"
   ]
  },
  {
   "cell_type": "markdown",
   "metadata": {},
   "source": [
    "## Scenerio 2:\n",
    "In the other side of the world, we meet Sandy. She is an advanced undergrad that has attended one of the hackweek at UW eScience. She just started to really program in Python. Her senior thesis project requires her to analyze a geospatial entity. Similar to bob she knows that she will need to use gdal, fiona, and netcdf. Having learned about `conda` in the hackweek she started following the `conda` workflow in creating a new project. Let's see what happens."
   ]
  },
  {
   "cell_type": "code",
   "execution_count": 4,
   "metadata": {},
   "outputs": [
    {
     "data": {
      "text/html": [
       "\n",
       "<script id=\"asciicast-2Kz7LgkK7BJ1gg7gi1wtJZorn\" src=\"https://asciinema.org/a/2Kz7LgkK7BJ1gg7gi1wtJZorn.js\" async></script>\n"
      ],
      "text/plain": [
       "<IPython.core.display.HTML object>"
      ]
     },
     "metadata": {},
     "output_type": "display_data"
    }
   ],
   "source": [
    "%%html\n",
    "\n",
    "<script id=\"asciicast-2Kz7LgkK7BJ1gg7gi1wtJZorn\" src=\"https://asciinema.org/a/2Kz7LgkK7BJ1gg7gi1wtJZorn.js\" async></script>"
   ]
  },
  {
   "cell_type": "markdown",
   "metadata": {},
   "source": [
    "**Sandy succeeded!**"
   ]
  },
  {
   "cell_type": "markdown",
   "metadata": {},
   "source": [
    "## So, what's going on? why didn't pipenv work?\n",
    "\n",
    "- `pipenv` is basically just a nice wrapper that uses `pip` and `virtualenv` under the hood\n",
    "- `pip` is simply just a python package manager\n",
    "- `pip` does not handle library dependencies outside of the python packages as well as the python packages themselves\n",
    "- `pip` wheels can solve some of the lower level dependencies problems that we run into in bob's case, but GDAL Developers did not include these dependencies within the wheels, users have to set it up themselves!\n",
    "\n",
    "*NOTE: Conda can manage pip packages, but pip cannot manage conda packages*"
   ]
  },
  {
   "cell_type": "code",
   "execution_count": null,
   "metadata": {},
   "outputs": [],
   "source": []
  }
 ],
 "metadata": {
  "kernelspec": {
   "display_name": "Python [conda env:awscost]",
   "language": "python",
   "name": "conda-env-awscost-py"
  },
  "language_info": {
   "codemirror_mode": {
    "name": "ipython",
    "version": 3
   },
   "file_extension": ".py",
   "mimetype": "text/x-python",
   "name": "python",
   "nbconvert_exporter": "python",
   "pygments_lexer": "ipython3",
   "version": "3.6.7"
  }
 },
 "nbformat": 4,
 "nbformat_minor": 4
}
