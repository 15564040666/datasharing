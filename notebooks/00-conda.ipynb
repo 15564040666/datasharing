{
 "cells": [
  {
   "cell_type": "markdown",
   "metadata": {},
   "source": [
    "# Conda"
   ]
  },
  {
   "cell_type": "markdown",
   "metadata": {},
   "source": [
    "We will start this tutorial by looking at a picture of the perfect python environment.\n",
    "![Perfect Python Environment](https://geohackweek.github.io/datasharing/assets/img/conda/conda-env.jpeg)\n",
    "\n",
    "**Definition of python virtual environment: a self-contained directory tree that contains a Python installation for a particular version of Python, plus a number of additional packages.**"
   ]
  },
  {
   "cell_type": "markdown",
   "metadata": {},
   "source": [
    "---\n",
    "## 0. Python Environment Discussion\n",
    "\n",
    "What are the benefits of having a well defined python environment?\n",
    "\n",
    "*Brainstorming: [https://etherpad.wikimedia.org/p/geohack-conda](https://etherpad.wikimedia.org/p/geohack-conda)*\n",
    "\n",
    "<details><summary>Solution</summary>\n",
    "<p>\n",
    "\n",
    "1. Avoid future breakage if any dependencies changes\n",
    "2. Allows better collaboration among team\n",
    "3. Reliability\n",
    "\n",
    "</p>\n",
    "</details>"
   ]
  },
  {
   "cell_type": "markdown",
   "metadata": {},
   "source": [
    "---\n",
    "## 1. Ways to create environments and manage packages in Python\n",
    "\n",
    "1. The most classic is with `pip` as a python package manager, \n",
    "along with `virtualenv` as the python environment manager.\n",
    "2. Next modern classic `pipenv` as a python package and environment manager.\n",
    "3. What we'll learn, `conda`."
   ]
  },
  {
   "cell_type": "markdown",
   "metadata": {},
   "source": [
    "---\n",
    "## 2. Review from Preliminary\n",
    "\n",
    "### What is conda?\n",
    "- An open source **package** and **environment** management system, \n",
    "used by the scientific software community\n",
    "- From their website: *Package, dependency and environment management for any language—Python, R, Ruby, Lua, Scala, Java, JavaScript, C/ C++, FORTRAN*\n",
    "\n",
    "### Flavors of conda\n",
    "- Miniconda:\n",
    "   \n",
    "   **Lightweight** distribution of conda; only contains the necessary python packages.\n",
    "\n",
    "- Anaconda:\n",
    " \n",
    "   A **data science platform** distribution of conda; comes with a lot of scientific python packages."
   ]
  },
  {
   "cell_type": "markdown",
   "metadata": {},
   "source": [
    "---\n",
    "## 3. Exercise: Let's try creating a python environment\n",
    "\n",
    "### Scenerio 1:\n",
    "Bob is a post-doc. He has been programming in Python for a few years now, \n",
    "and he is very comfortable managing his own python environment, \n",
    "previously using `pip` and `virtualenv`, but now he's with the \"cool\" kids using `pipenv`. \n",
    "Recently, his studies are shifting more towards a geospatial focus, and he will need python libraries such as gdal, fiona, and netcdf. Let's see what happens."
   ]
  },
  {
   "cell_type": "code",
   "execution_count": 5,
   "metadata": {},
   "outputs": [
    {
     "name": "stdout",
     "output_type": "stream",
     "text": [
      "Collecting pipenv\n",
      "\u001b[?25l  Downloading https://files.pythonhosted.org/packages/13/b4/3ffa55f77161cff9a5220f162670f7c5eb00df52e00939e203f601b0f579/pipenv-2018.11.26-py3-none-any.whl (5.2MB)\n",
      "\u001b[K     |████████████████████████████████| 5.2MB 1.4MB/s \n",
      "\u001b[?25hRequirement already satisfied: pip>=9.0.1 in /srv/conda/envs/notebook/lib/python3.6/site-packages (from pipenv) (19.2.1)\n",
      "Collecting virtualenv (from pipenv)\n",
      "\u001b[?25l  Downloading https://files.pythonhosted.org/packages/db/9e/df208b2baad146fe3fbe750eacadd6e49bcf2f2c3c1117b7192a7b28aec4/virtualenv-16.7.2-py2.py3-none-any.whl (3.3MB)\n",
      "\u001b[K     |████████████████████████████████| 3.3MB 49.0MB/s \n",
      "\u001b[?25hRequirement already satisfied: setuptools>=36.2.1 in /srv/conda/envs/notebook/lib/python3.6/site-packages (from pipenv) (41.0.1)\n",
      "Collecting virtualenv-clone>=0.2.5 (from pipenv)\n",
      "  Downloading https://files.pythonhosted.org/packages/ba/f8/50c2b7dbc99e05fce5e5b9d9a31f37c988c99acd4e8dedd720b7b8d4011d/virtualenv_clone-0.5.3-py2.py3-none-any.whl\n",
      "Requirement already satisfied: certifi in /srv/conda/envs/notebook/lib/python3.6/site-packages (from pipenv) (2019.6.16)\n",
      "Installing collected packages: virtualenv, virtualenv-clone, pipenv\n",
      "Successfully installed pipenv-2018.11.26 virtualenv-16.7.2 virtualenv-clone-0.5.3\n"
     ]
    }
   ],
   "source": [
    "%%bash\n",
    "\n",
    "# First bob installs the new pipenv\n",
    "pip install pipenv"
   ]
  },
  {
   "cell_type": "code",
   "execution_count": 24,
   "metadata": {},
   "outputs": [],
   "source": [
    "%%bash\n",
    "\n",
    "# Next he creates a folder for his new geoproject\n",
    "mkdir geoproject"
   ]
  },
  {
   "cell_type": "code",
   "execution_count": 35,
   "metadata": {},
   "outputs": [],
   "source": [
    "%%bash\n",
    "\n",
    "# Next bob creates a requirements.txt so he can share this later\n",
    "# In requirements.txt\n",
    "# ipython\n",
    "# requests\n",
    "# fiona\n",
    "# gdal\n",
    "# netCDF4\n",
    "cat <<EOT >> geoproject/requirements.txt\n",
    "ipython\n",
    "requests\n",
    "fiona\n",
    "gdal\n",
    "netCDF4\n",
    "EOT"
   ]
  },
  {
   "cell_type": "code",
   "execution_count": 36,
   "metadata": {},
   "outputs": [
    {
     "name": "stderr",
     "output_type": "stream",
     "text": [
      "Requirements file provided! Importing into Pipfile…\n",
      "Pipfile.lock not found, creating…\n",
      "Locking [dev-packages] dependencies…\n",
      "Locking [packages] dependencies…\n",
      "⠼ Locking..✘ Locking Failed! \n",
      "Traceback (most recent call last):\n",
      "  File \"/srv/conda/envs/notebook/lib/python3.6/site-packages/pipenv/resolver.py\", line 126, in <module>\n",
      "    main()\n",
      "  File \"/srv/conda/envs/notebook/lib/python3.6/site-packages/pipenv/resolver.py\", line 119, in main\n",
      "    parsed.requirements_dir, parsed.packages)\n",
      "  File \"/srv/conda/envs/notebook/lib/python3.6/site-packages/pipenv/resolver.py\", line 85, in _main\n",
      "    requirements_dir=requirements_dir,\n",
      "  File \"/srv/conda/envs/notebook/lib/python3.6/site-packages/pipenv/resolver.py\", line 69, in resolve\n",
      "    req_dir=requirements_dir\n",
      "  File \"/srv/conda/envs/notebook/lib/python3.6/site-packages/pipenv/utils.py\", line 726, in resolve_deps\n",
      "    req_dir=req_dir,\n",
      "  File \"/srv/conda/envs/notebook/lib/python3.6/site-packages/pipenv/utils.py\", line 480, in actually_resolve_deps\n",
      "    resolved_tree = resolver.resolve()\n",
      "  File \"/srv/conda/envs/notebook/lib/python3.6/site-packages/pipenv/utils.py\", line 385, in resolve\n",
      "    results = self.resolver.resolve(max_rounds=environments.PIPENV_MAX_ROUNDS)\n",
      "  File \"/srv/conda/envs/notebook/lib/python3.6/site-packages/pipenv/patched/piptools/resolver.py\", line 102, in resolve\n",
      "    has_changed, best_matches = self._resolve_one_round()\n",
      "  File \"/srv/conda/envs/notebook/lib/python3.6/site-packages/pipenv/patched/piptools/resolver.py\", line 206, in _resolve_one_round\n",
      "    for dep in self._iter_dependencies(best_match):\n",
      "  File \"/srv/conda/envs/notebook/lib/python3.6/site-packages/pipenv/patched/piptools/resolver.py\", line 301, in _iter_dependencies\n",
      "    dependencies = self.repository.get_dependencies(ireq)\n",
      "  File \"/srv/conda/envs/notebook/lib/python3.6/site-packages/pipenv/patched/piptools/repositories/pypi.py\", line 234, in get_dependencies\n",
      "    legacy_results = self.get_legacy_dependencies(ireq)\n",
      "  File \"/srv/conda/envs/notebook/lib/python3.6/site-packages/pipenv/patched/piptools/repositories/pypi.py\", line 426, in get_legacy_dependencies\n",
      "    results, ireq = self.resolve_reqs(download_dir, ireq, wheel_cache)\n",
      "  File \"/srv/conda/envs/notebook/lib/python3.6/site-packages/pipenv/patched/piptools/repositories/pypi.py\", line 297, in resolve_reqs\n",
      "    results = resolver._resolve_one(reqset, ireq)\n",
      "  File \"/srv/conda/envs/notebook/lib/python3.6/site-packages/pipenv/patched/notpip/_internal/resolve.py\", line 260, in _resolve_one\n",
      "    abstract_dist = self._get_abstract_dist_for(req_to_install)\n",
      "  File \"/srv/conda/envs/notebook/lib/python3.6/site-packages/pipenv/patched/notpip/_internal/resolve.py\", line 213, in _get_abstract_dist_for\n",
      "    self.require_hashes\n",
      "  File \"/srv/conda/envs/notebook/lib/python3.6/site-packages/pipenv/patched/notpip/_internal/operations/prepare.py\", line 294, in prepare_linked_requirement\n",
      "    abstract_dist.prep_for_dist(finder, self.build_isolation)\n",
      "  File \"/srv/conda/envs/notebook/lib/python3.6/site-packages/pipenv/patched/notpip/_internal/operations/prepare.py\", line 127, in prep_for_dist\n",
      "    self.req.run_egg_info()\n",
      "  File \"/srv/conda/envs/notebook/lib/python3.6/site-packages/pipenv/patched/notpip/_internal/req/req_install.py\", line 474, in run_egg_info\n",
      "    command_desc='python setup.py egg_info')\n",
      "  File \"/srv/conda/envs/notebook/lib/python3.6/site-packages/pipenv/patched/notpip/_internal/utils/misc.py\", line 705, in call_subprocess\n",
      "    % (command_desc, proc.returncode, cwd))\n",
      "pipenv.patched.notpip._internal.exceptions.InstallationError: Command \"python setup.py egg_info\" failed with error code 1 in /tmp/tmpma9ppfzdbuild/gdal/\n",
      "File \"/srv/conda/envs/notebook/lib/python3.6/site-packages/pipenv/resolver.py\", line 126, in <module>\n",
      "    main()\n",
      "  File \"/srv/conda/envs/notebook/lib/python3.6/site-packages/pipenv/resolver.py\", line 119, in main\n",
      "    parsed.requirements_dir, parsed.packages)\n",
      "  File \"/srv/conda/envs/notebook/lib/python3.6/site-packages/pipenv/resolver.py\", line 85, in _main\n",
      "    requirements_dir=requirements_dir,\n",
      "  File \"/srv/conda/envs/notebook/lib/python3.6/site-packages/pipenv/resolver.py\", line 69, in resolve\n",
      "    req_dir=requirements_dir\n",
      "  File \"/srv/conda/envs/notebook/lib/python3.6/site-packages/pipenv/utils.py\", line 726, in resolve_deps\n",
      "    req_dir=req_dir,\n",
      "  File \"/srv/conda/envs/notebook/lib/python3.6/site-packages/pipenv/utils.py\", line 480, in actually_resolve_deps\n",
      "    resolved_tree = resolver.resolve()\n",
      "  File \"/srv/conda/envs/notebook/lib/python3.6/site-packages/pipenv/utils.py\", line 385, in resolve\n",
      "    results = self.resolver.resolve(max_rounds=environments.PIPENV_MAX_ROUNDS)\n",
      "  File \"/srv/conda/envs/notebook/lib/python3.6/site-packages/pipenv/patched/piptools/resolver.py\", line 102, in resolve\n",
      "    has_changed, best_matches = self._resolve_one_round()\n",
      "  File \"/srv/conda/envs/notebook/lib/python3.6/site-packages/pipenv/patched/piptools/resolver.py\", line 206, in _resolve_one_round\n",
      "    for dep in self._iter_dependencies(best_match):\n",
      "  File \"/srv/conda/envs/notebook/lib/python3.6/site-packages/pipenv/patched/piptools/resolver.py\", line 301, in _iter_dependencies\n",
      "    dependencies = self.repository.get_dependencies(ireq)\n",
      "  File \"/srv/conda/envs/notebook/lib/python3.6/site-packages/pipenv/patched/piptools/repositories/pypi.py\", line 234, in get_dependencies\n",
      "    legacy_results = self.get_legacy_dependencies(ireq)\n",
      "  File \"/srv/conda/envs/notebook/lib/python3.6/site-packages/pipenv/patched/piptools/repositories/pypi.py\", line 426, in get_legacy_dependencies\n",
      "    results, ireq = self.resolve_reqs(download_dir, ireq, wheel_cache)\n",
      "  File \"/srv/conda/envs/notebook/lib/python3.6/site-packages/pipenv/patched/piptools/repositories/pypi.py\", line 297, in resolve_reqs\n",
      "    results = resolver._resolve_one(reqset, ireq)\n",
      "  File \"/srv/conda/envs/notebook/lib/python3.6/site-packages/pipenv/patched/notpip/_internal/resolve.py\", line 260, in _resolve_one\n",
      "    abstract_dist = self._get_abstract_dist_for(req_to_install)\n",
      "  File \"/srv/conda/envs/notebook/lib/python3.6/site-packages/pipenv/patched/notpip/_internal/resolve.py\", line 213, in _get_abstract_dist_for\n",
      "    self.require_hashes\n",
      "  File \"/srv/conda/envs/notebook/lib/python3.6/site-packages/pipenv/patched/notpip/_internal/operations/prepare.py\", line 294, in prepare_linked_requirement\n",
      "    abstract_dist.prep_for_dist(finder, self.build_isolation)\n",
      "  File \"/srv/conda/envs/notebook/lib/python3.6/site-packages/pipenv/patched/notpip/_internal/operations/prepare.py\", line 127, in prep_for_dist\n",
      "    self.req.run_egg_info()\n",
      "  File \"/srv/conda/envs/notebook/lib/python3.6/site-packages/pipenv/patched/notpip/_internal/req/req_install.py\", line 474, in run_egg_info\n",
      "    command_desc='python setup.py egg_info')\n",
      "  File \"/srv/conda/envs/notebook/lib/python3.6/site-packages/pipenv/patched/notpip/_internal/utils/misc.py\", line 705, in call_subprocess\n",
      "    % (command_desc, proc.returncode, cwd))\n",
      "pipenv.patched.notpip._internal.exceptions.InstallationError: Command \"python setup.py egg_info\" failed with error code 1 in /tmp/tmpma9ppfzdbuild/gdal/\n"
     ]
    },
    {
     "ename": "CalledProcessError",
     "evalue": "Command 'b'\\n# Now he installs those packages\\npipenv install -r geoproject/requirements.txt\\n'' returned non-zero exit status 1.",
     "output_type": "error",
     "traceback": [
      "\u001b[0;31m---------------------------------------------------------------------------\u001b[0m",
      "\u001b[0;31mCalledProcessError\u001b[0m                        Traceback (most recent call last)",
      "\u001b[0;32m<ipython-input-36-7771b66f9bc3>\u001b[0m in \u001b[0;36m<module>\u001b[0;34m\u001b[0m\n\u001b[0;32m----> 1\u001b[0;31m \u001b[0mget_ipython\u001b[0m\u001b[0;34m(\u001b[0m\u001b[0;34m)\u001b[0m\u001b[0;34m.\u001b[0m\u001b[0mrun_cell_magic\u001b[0m\u001b[0;34m(\u001b[0m\u001b[0;34m'bash'\u001b[0m\u001b[0;34m,\u001b[0m \u001b[0;34m''\u001b[0m\u001b[0;34m,\u001b[0m \u001b[0;34m'\\n# Now he installs those packages\\npipenv install -r geoproject/requirements.txt\\n'\u001b[0m\u001b[0;34m)\u001b[0m\u001b[0;34m\u001b[0m\u001b[0;34m\u001b[0m\u001b[0m\n\u001b[0m",
      "\u001b[0;32m/srv/conda/envs/notebook/lib/python3.6/site-packages/IPython/core/interactiveshell.py\u001b[0m in \u001b[0;36mrun_cell_magic\u001b[0;34m(self, magic_name, line, cell)\u001b[0m\n\u001b[1;32m   2357\u001b[0m             \u001b[0;32mwith\u001b[0m \u001b[0mself\u001b[0m\u001b[0;34m.\u001b[0m\u001b[0mbuiltin_trap\u001b[0m\u001b[0;34m:\u001b[0m\u001b[0;34m\u001b[0m\u001b[0;34m\u001b[0m\u001b[0m\n\u001b[1;32m   2358\u001b[0m                 \u001b[0margs\u001b[0m \u001b[0;34m=\u001b[0m \u001b[0;34m(\u001b[0m\u001b[0mmagic_arg_s\u001b[0m\u001b[0;34m,\u001b[0m \u001b[0mcell\u001b[0m\u001b[0;34m)\u001b[0m\u001b[0;34m\u001b[0m\u001b[0;34m\u001b[0m\u001b[0m\n\u001b[0;32m-> 2359\u001b[0;31m                 \u001b[0mresult\u001b[0m \u001b[0;34m=\u001b[0m \u001b[0mfn\u001b[0m\u001b[0;34m(\u001b[0m\u001b[0;34m*\u001b[0m\u001b[0margs\u001b[0m\u001b[0;34m,\u001b[0m \u001b[0;34m**\u001b[0m\u001b[0mkwargs\u001b[0m\u001b[0;34m)\u001b[0m\u001b[0;34m\u001b[0m\u001b[0;34m\u001b[0m\u001b[0m\n\u001b[0m\u001b[1;32m   2360\u001b[0m             \u001b[0;32mreturn\u001b[0m \u001b[0mresult\u001b[0m\u001b[0;34m\u001b[0m\u001b[0;34m\u001b[0m\u001b[0m\n\u001b[1;32m   2361\u001b[0m \u001b[0;34m\u001b[0m\u001b[0m\n",
      "\u001b[0;32m/srv/conda/envs/notebook/lib/python3.6/site-packages/IPython/core/magics/script.py\u001b[0m in \u001b[0;36mnamed_script_magic\u001b[0;34m(line, cell)\u001b[0m\n\u001b[1;32m    140\u001b[0m             \u001b[0;32melse\u001b[0m\u001b[0;34m:\u001b[0m\u001b[0;34m\u001b[0m\u001b[0;34m\u001b[0m\u001b[0m\n\u001b[1;32m    141\u001b[0m                 \u001b[0mline\u001b[0m \u001b[0;34m=\u001b[0m \u001b[0mscript\u001b[0m\u001b[0;34m\u001b[0m\u001b[0;34m\u001b[0m\u001b[0m\n\u001b[0;32m--> 142\u001b[0;31m             \u001b[0;32mreturn\u001b[0m \u001b[0mself\u001b[0m\u001b[0;34m.\u001b[0m\u001b[0mshebang\u001b[0m\u001b[0;34m(\u001b[0m\u001b[0mline\u001b[0m\u001b[0;34m,\u001b[0m \u001b[0mcell\u001b[0m\u001b[0;34m)\u001b[0m\u001b[0;34m\u001b[0m\u001b[0;34m\u001b[0m\u001b[0m\n\u001b[0m\u001b[1;32m    143\u001b[0m \u001b[0;34m\u001b[0m\u001b[0m\n\u001b[1;32m    144\u001b[0m         \u001b[0;31m# write a basic docstring:\u001b[0m\u001b[0;34m\u001b[0m\u001b[0;34m\u001b[0m\u001b[0;34m\u001b[0m\u001b[0m\n",
      "\u001b[0;32m</srv/conda/envs/notebook/lib/python3.6/site-packages/decorator.py:decorator-gen-110>\u001b[0m in \u001b[0;36mshebang\u001b[0;34m(self, line, cell)\u001b[0m\n",
      "\u001b[0;32m/srv/conda/envs/notebook/lib/python3.6/site-packages/IPython/core/magic.py\u001b[0m in \u001b[0;36m<lambda>\u001b[0;34m(f, *a, **k)\u001b[0m\n\u001b[1;32m    185\u001b[0m     \u001b[0;31m# but it's overkill for just that one bit of state.\u001b[0m\u001b[0;34m\u001b[0m\u001b[0;34m\u001b[0m\u001b[0;34m\u001b[0m\u001b[0m\n\u001b[1;32m    186\u001b[0m     \u001b[0;32mdef\u001b[0m \u001b[0mmagic_deco\u001b[0m\u001b[0;34m(\u001b[0m\u001b[0marg\u001b[0m\u001b[0;34m)\u001b[0m\u001b[0;34m:\u001b[0m\u001b[0;34m\u001b[0m\u001b[0;34m\u001b[0m\u001b[0m\n\u001b[0;32m--> 187\u001b[0;31m         \u001b[0mcall\u001b[0m \u001b[0;34m=\u001b[0m \u001b[0;32mlambda\u001b[0m \u001b[0mf\u001b[0m\u001b[0;34m,\u001b[0m \u001b[0;34m*\u001b[0m\u001b[0ma\u001b[0m\u001b[0;34m,\u001b[0m \u001b[0;34m**\u001b[0m\u001b[0mk\u001b[0m\u001b[0;34m:\u001b[0m \u001b[0mf\u001b[0m\u001b[0;34m(\u001b[0m\u001b[0;34m*\u001b[0m\u001b[0ma\u001b[0m\u001b[0;34m,\u001b[0m \u001b[0;34m**\u001b[0m\u001b[0mk\u001b[0m\u001b[0;34m)\u001b[0m\u001b[0;34m\u001b[0m\u001b[0;34m\u001b[0m\u001b[0m\n\u001b[0m\u001b[1;32m    188\u001b[0m \u001b[0;34m\u001b[0m\u001b[0m\n\u001b[1;32m    189\u001b[0m         \u001b[0;32mif\u001b[0m \u001b[0mcallable\u001b[0m\u001b[0;34m(\u001b[0m\u001b[0marg\u001b[0m\u001b[0;34m)\u001b[0m\u001b[0;34m:\u001b[0m\u001b[0;34m\u001b[0m\u001b[0;34m\u001b[0m\u001b[0m\n",
      "\u001b[0;32m/srv/conda/envs/notebook/lib/python3.6/site-packages/IPython/core/magics/script.py\u001b[0m in \u001b[0;36mshebang\u001b[0;34m(self, line, cell)\u001b[0m\n\u001b[1;32m    243\u001b[0m             \u001b[0msys\u001b[0m\u001b[0;34m.\u001b[0m\u001b[0mstderr\u001b[0m\u001b[0;34m.\u001b[0m\u001b[0mflush\u001b[0m\u001b[0;34m(\u001b[0m\u001b[0;34m)\u001b[0m\u001b[0;34m\u001b[0m\u001b[0;34m\u001b[0m\u001b[0m\n\u001b[1;32m    244\u001b[0m         \u001b[0;32mif\u001b[0m \u001b[0margs\u001b[0m\u001b[0;34m.\u001b[0m\u001b[0mraise_error\u001b[0m \u001b[0;32mand\u001b[0m \u001b[0mp\u001b[0m\u001b[0;34m.\u001b[0m\u001b[0mreturncode\u001b[0m\u001b[0;34m!=\u001b[0m\u001b[0;36m0\u001b[0m\u001b[0;34m:\u001b[0m\u001b[0;34m\u001b[0m\u001b[0;34m\u001b[0m\u001b[0m\n\u001b[0;32m--> 245\u001b[0;31m             \u001b[0;32mraise\u001b[0m \u001b[0mCalledProcessError\u001b[0m\u001b[0;34m(\u001b[0m\u001b[0mp\u001b[0m\u001b[0;34m.\u001b[0m\u001b[0mreturncode\u001b[0m\u001b[0;34m,\u001b[0m \u001b[0mcell\u001b[0m\u001b[0;34m,\u001b[0m \u001b[0moutput\u001b[0m\u001b[0;34m=\u001b[0m\u001b[0mout\u001b[0m\u001b[0;34m,\u001b[0m \u001b[0mstderr\u001b[0m\u001b[0;34m=\u001b[0m\u001b[0merr\u001b[0m\u001b[0;34m)\u001b[0m\u001b[0;34m\u001b[0m\u001b[0;34m\u001b[0m\u001b[0m\n\u001b[0m\u001b[1;32m    246\u001b[0m \u001b[0;34m\u001b[0m\u001b[0m\n\u001b[1;32m    247\u001b[0m     \u001b[0;32mdef\u001b[0m \u001b[0m_run_script\u001b[0m\u001b[0;34m(\u001b[0m\u001b[0mself\u001b[0m\u001b[0;34m,\u001b[0m \u001b[0mp\u001b[0m\u001b[0;34m,\u001b[0m \u001b[0mcell\u001b[0m\u001b[0;34m,\u001b[0m \u001b[0mto_close\u001b[0m\u001b[0;34m)\u001b[0m\u001b[0;34m:\u001b[0m\u001b[0;34m\u001b[0m\u001b[0;34m\u001b[0m\u001b[0m\n",
      "\u001b[0;31mCalledProcessError\u001b[0m: Command 'b'\\n# Now he installs those packages\\npipenv install -r geoproject/requirements.txt\\n'' returned non-zero exit status 1."
     ]
    }
   ],
   "source": [
    "%%bash\n",
    "\n",
    "# Now he installs those packages\n",
    "pipenv install -r geoproject/requirements.txt"
   ]
  },
  {
   "cell_type": "markdown",
   "metadata": {},
   "source": [
    "**Bob got an error ...**"
   ]
  },
  {
   "cell_type": "markdown",
   "metadata": {},
   "source": [
    "Bob looked at https://pypi.org/project/GDAL/, but it's still really confusing to set this up... HELP!"
   ]
  },
  {
   "cell_type": "code",
   "execution_count": 28,
   "metadata": {},
   "outputs": [],
   "source": [
    "%%bash\n",
    "\n",
    "# clean up before scenario 2\n",
    "rm -rf geoproject"
   ]
  },
  {
   "cell_type": "markdown",
   "metadata": {},
   "source": [
    "## Scenerio 2:\n",
    "In the other side of the world, we meet Sandy. She is an advanced undergrad that has attended one of the hackweek at UW eScience. She just started to really program in Python. Her senior thesis project requires her to analyze a geospatial entity. Similar to bob she knows that she will need to use gdal, fiona, and netcdf. Having learned about `conda` in the hackweek she started following the `conda` workflow in creating a new project. Let's see what happens."
   ]
  },
  {
   "cell_type": "code",
   "execution_count": 29,
   "metadata": {},
   "outputs": [],
   "source": [
    "%%bash\n",
    "\n",
    "# Sandy has installed conda into her linux machine, so her first step now is to make a new directory for the project\n",
    "mkdir geoproject"
   ]
  },
  {
   "cell_type": "code",
   "execution_count": 30,
   "metadata": {},
   "outputs": [],
   "source": [
    "%%bash\n",
    "\n",
    "# Next Sandy creates an environment.yml so she can share this later\n",
    "# In environment.yml\n",
    "# name: geoproj\n",
    "# channels:  \n",
    "#   - conda-forge\n",
    "# dependencies:\n",
    "#   - python=3.6\n",
    "#   - ipython\n",
    "#   - requests\n",
    "#   - fiona\n",
    "#   - gdal\n",
    "#   - netCDF4\n",
    "cd geoproject;\n",
    "cat <<EOT >> environment.yml\n",
    "name: geoproj\n",
    "channels:  \n",
    "  - conda-forge\n",
    "dependencies:\n",
    "  - python=3.6\n",
    "  - ipython\n",
    "  - requests\n",
    "  - fiona\n",
    "  - gdal\n",
    "  - netCDF4\n",
    "EOT"
   ]
  },
  {
   "cell_type": "code",
   "execution_count": 37,
   "metadata": {},
   "outputs": [
    {
     "name": "stdout",
     "output_type": "stream",
     "text": [
      "Collecting package metadata (repodata.json): ...working... done\n",
      "Solving environment: ...working... done\n",
      "\n",
      "Downloading and Extracting Packages\n",
      "kealib-1.4.10        | 173 KB    | ########## | 100% \n",
      "xorg-libx11-1.6.8    | 907 KB    | ########## | 100% \n",
      "attrs-19.1.0         | 32 KB     | ########## | 100% \n",
      "openjpeg-2.3.1       | 470 KB    | ########## | 100% \n",
      "poppler-0.67.0       | 8.9 MB    | ########## | 100% \n",
      "lz4-c-1.8.3          | 187 KB    | ########## | 100% \n",
      "xorg-libxext-1.3.4   | 51 KB     | ########## | 100% \n",
      "numpy-1.17.0         | 5.2 MB    | ########## | 100% \n",
      "pygments-2.4.2       | 661 KB    | ########## | 100% \n",
      "wcwidth-0.1.7        | 17 KB     | ########## | 100% \n",
      "cligj-0.5.0          | 8 KB      | ########## | 100% \n",
      "xorg-libsm-1.2.3     | 25 KB     | ########## | 100% \n",
      "chardet-3.0.4        | 190 KB    | ########## | 100% \n",
      "ipython-7.7.0        | 1.1 MB    | ########## | 100% \n",
      "libxcb-1.13          | 396 KB    | ########## | 100% \n",
      "urllib3-1.25.3       | 187 KB    | ########## | 100% \n",
      "libpng-1.6.37        | 343 KB    | ########## | 100% \n",
      "backcall-0.1.0       | 13 KB     | ########## | 100% \n",
      "geos-3.7.2           | 872 KB    | ########## | 100% \n",
      "xerces-c-3.2.2       | 1.7 MB    | ########## | 100% \n",
      "xorg-libice-1.0.10   | 57 KB     | ########## | 100% \n",
      "zstd-1.4.0           | 928 KB    | ########## | 100% \n",
      "xorg-renderproto-0.1 | 8 KB      | ########## | 100% \n",
      "hdf5-1.10.5          | 5.2 MB    | ########## | 100% \n",
      "giflib-5.1.7         | 455 KB    | ########## | 100% \n",
      "libedit-3.1.20170329 | 172 KB    | ########## | 100% \n",
      "prompt_toolkit-2.0.9 | 222 KB    | ########## | 100% \n",
      "click-7.0            | 61 KB     | ########## | 100% \n",
      "libxml2-2.9.9        | 1.3 MB    | ########## | 100% \n",
      "libcblas-3.8.0       | 10 KB     | ########## | 100% \n",
      "libcurl-7.65.3       | 575 KB    | ########## | 100% \n",
      "libdap4-3.20.2       | 18.6 MB   | ########## | 100% \n",
      "traitlets-4.3.2      | 131 KB    | ########## | 100% \n",
      "netcdf4-1.5.1.2      | 537 KB    | ########## | 100% \n",
      "pixman-0.38.0        | 594 KB    | ########## | 100% \n",
      "libpq-11.5           | 2.5 MB    | ########## | 100% \n",
      "asn1crypto-0.24.0    | 154 KB    | ########## | 100% \n",
      "gdal-2.4.2           | 1.2 MB    | ########## | 100% \n",
      "libtiff-4.0.10       | 587 KB    | ########## | 100% \n",
      "freetype-2.10.0      | 884 KB    | ########## | 100% \n",
      "geotiff-1.5.1        | 279 KB    | ########## | 100% \n",
      "cryptography-2.7     | 607 KB    | ########## | 100% \n",
      "gettext-0.19.8.1     | 3.6 MB    | ########## | 100% \n",
      "hdf4-4.2.13          | 952 KB    | ########## | 100% \n",
      "expat-2.2.5          | 191 KB    | ########## | 100% \n",
      "libgdal-2.4.2        | 18.6 MB   | ########## | 100% \n",
      "cfitsio-3.470        | 1.4 MB    | ########## | 100% \n",
      "json-c-0.13.1        | 71 KB     | ########## | 100% \n",
      "liblapack-3.8.0      | 10 KB     | ########## | 100% \n",
      "fontconfig-2.13.1    | 327 KB    | ########## | 100% \n",
      "xorg-xextproto-7.3.0 | 27 KB     | ########## | 100% \n",
      "freexl-1.0.5         | 43 KB     | ########## | 100% \n",
      "ipython_genutils-0.2 | 21 KB     | ########## | 100% \n",
      "bzip2-1.0.8          | 396 KB    | ########## | 100% \n",
      "cffi-1.12.3          | 218 KB    | ########## | 100% \n",
      "xorg-libxrender-0.9. | 31 KB     | ########## | 100% \n",
      "xorg-libxdmcp-1.1.3  | 18 KB     | ########## | 100% \n",
      "pyopenssl-19.0.0     | 81 KB     | ########## | 100% \n",
      "krb5-1.16.3          | 1.4 MB    | ########## | 100% \n",
      "libopenblas-0.3.7    | 7.6 MB    | ########## | 100% \n",
      "glib-2.58.3          | 3.3 MB    | ########## | 100% \n",
      "tzcode-2019a         | 429 KB    | ########## | 100% \n",
      "proj4-6.1.0          | 9.4 MB    | ########## | 100% \n",
      "curl-7.65.3          | 132 KB    | ########## | 100% \n",
      "ptyprocess-0.6.0     | 15 KB     | ########## | 100% \n",
      "xorg-xproto-7.0.31   | 72 KB     | ########## | 100% \n",
      "pysocks-1.7.0        | 26 KB     | ########## | 100% \n",
      "libuuid-2.32.1       | 26 KB     | ########## | 100% \n",
      "six-1.12.0           | 22 KB     | ########## | 100% \n",
      "boost-cpp-1.70.0     | 21.1 MB   | ########## | 100% \n",
      "jpeg-9c              | 251 KB    | ########## | 100% \n",
      "pcre-8.41            | 249 KB    | ########## | 100% \n",
      "libkml-1.3.0         | 643 KB    | ########## | 100% \n",
      "pexpect-4.7.0        | 78 KB     | ########## | 100% \n",
      "click-plugins-1.1.1  | 9 KB      | ########## | 100% \n",
      "cairo-1.16.0         | 1.5 MB    | ########## | 100% \n",
      "libiconv-1.15        | 2.0 MB    | ########## | 100% \n",
      "decorator-4.4.0      | 11 KB     | ########## | 100% \n",
      "libssh2-1.8.2        | 257 KB    | ########## | 100% \n",
      "libgfortran-ng-7.3.0 | 1006 KB   | ########## | 100% \n",
      "pycparser-2.19       | 173 KB    | ########## | 100% \n",
      "libblas-3.8.0        | 10 KB     | ########## | 100% \n",
      "fiona-1.8.6          | 1.0 MB    | ########## | 100% \n",
      "cftime-1.0.3.4       | 309 KB    | ########## | 100% \n",
      "pthread-stubs-0.4    | 5 KB      | ########## | 100% \n",
      "libnetcdf-4.6.2      | 1.3 MB    | ########## | 100% \n",
      "icu-58.2             | 22.6 MB   | ########## | 100% \n",
      "parso-0.5.1          | 65 KB     | ########## | 100% \n",
      "requests-2.22.0      | 84 KB     | ########## | 100% \n",
      "xorg-libxau-1.0.9    | 13 KB     | ########## | 100% \n",
      "munch-2.3.2          | 8 KB      | ########## | 100% \n",
      "idna-2.8             | 132 KB    | ########## | 100% \n",
      "pickleshare-0.7.5    | 12 KB     | ########## | 100% \n",
      "poppler-data-0.4.9   | 3.4 MB    | ########## | 100% \n",
      "jedi-0.15.1          | 717 KB    | ########## | 100% \n",
      "libspatialite-4.3.0a | 3.1 MB    | ########## | 100% \n",
      "postgresql-11.5      | 4.8 MB    | ########## | 100% \n",
      "shapely-1.6.4        | 329 KB    | ########## | 100% \n",
      "xorg-kbproto-1.0.7   | 26 KB     | ########## | 100% \n",
      "Preparing transaction: ...working... done\n",
      "Verifying transaction: ...working... done\n",
      "Executing transaction: ...working... done\n",
      "#\n",
      "# To activate this environment, use\n",
      "#\n",
      "#     $ conda activate geoproj\n",
      "#\n",
      "# To deactivate an active environment, use\n",
      "#\n",
      "#     $ conda deactivate\n",
      "\n"
     ]
    },
    {
     "name": "stderr",
     "output_type": "stream",
     "text": [
      "\n",
      "\n",
      "==> WARNING: A newer version of conda exists. <==\n",
      "  current version: 4.7.10\n",
      "  latest version: 4.7.11\n",
      "\n",
      "Please update conda by running\n",
      "\n",
      "    $ conda update -n base conda\n",
      "\n",
      "\n"
     ]
    }
   ],
   "source": [
    "%%bash\n",
    "\n",
    "# Now she installs those packages\n",
    "conda env create -f geoproject/environment.yml"
   ]
  },
  {
   "cell_type": "markdown",
   "metadata": {},
   "source": [
    "**Sandy suceeded in the install after a few minutes**"
   ]
  },
  {
   "cell_type": "code",
   "execution_count": 39,
   "metadata": {},
   "outputs": [
    {
     "name": "stdout",
     "output_type": "stream",
     "text": [
      "GDAL 2.4.2, released 2019/06/28\n",
      "GDAL 2.4.2, released 2019/06/28\n"
     ]
    }
   ],
   "source": [
    "%%bash\n",
    "\n",
    "# Sandy activated her new geoproj python environment, and check whether gdal works.\n",
    "source activate geoproj\n",
    "gdalinfo --version\n",
    "ogr2ogr --version"
   ]
  },
  {
   "cell_type": "markdown",
   "metadata": {},
   "source": [
    "## So, what's going on? why didn't pipenv work?\n",
    "\n",
    "- `pipenv` is basically just a nice wrapper that uses `pip` and `virtualenv` under the hood\n",
    "- `pip` is simply just a python package manager\n",
    "- `pip` does not handle library dependencies outside of the python packages as well as the python packages themselves\n",
    "- `pip` wheels can solve some of the lower level dependencies problems that we run into in bob's case, but GDAL Developers did not include these dependencies within the wheels, users have to set it up themselves!\n",
    "\n",
    "*NOTE: Conda can manage pip packages, but pip cannot manage conda packages*"
   ]
  },
  {
   "cell_type": "code",
   "execution_count": null,
   "metadata": {},
   "outputs": [],
   "source": []
  }
 ],
 "metadata": {
  "kernelspec": {
   "display_name": "Python [conda env:notebook] *",
   "language": "python",
   "name": "conda-env-notebook-py"
  },
  "language_info": {
   "codemirror_mode": {
    "name": "ipython",
    "version": 3
   },
   "file_extension": ".py",
   "mimetype": "text/x-python",
   "name": "python",
   "nbconvert_exporter": "python",
   "pygments_lexer": "ipython3",
   "version": "3.6.7"
  }
 },
 "nbformat": 4,
 "nbformat_minor": 2
}
